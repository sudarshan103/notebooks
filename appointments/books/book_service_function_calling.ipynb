{
 "cells": [
  {
   "cell_type": "code",
   "execution_count": null,
   "metadata": {},
   "outputs": [],
   "source": [
    "pip install mysql-connector-python"
   ]
  },
  {
   "cell_type": "code",
   "execution_count": 2,
   "metadata": {},
   "outputs": [],
   "source": [
    "import os,sys\n",
    "root_folder = '/home/sudarshan/notebooks'\n",
    "for dirpath, _, _ in os.walk(root_folder):\n",
    "    sys.path.append(dirpath)"
   ]
  },
  {
   "cell_type": "code",
   "execution_count": 3,
   "metadata": {},
   "outputs": [
    {
     "name": "stdout",
     "output_type": "stream",
     "text": [
      "Great! I found Dr. Nikhil Jadhav, who is an Orthopedic doctor. \n",
      "\n",
      "Please provide me with the date you would like to book an appointment for.\n"
     ]
    }
   ],
   "source": [
    "\n",
    "from appointments_function_calling import handle_user_input\n",
    "print(handle_user_input(\"Hello, I want to book an appointment with doctor nikhil\"))\n"
   ]
  },
  {
   "cell_type": "code",
   "execution_count": 4,
   "metadata": {},
   "outputs": [
    {
     "name": "stdout",
     "output_type": "stream",
     "text": [
      "Dr. Nikhil Jadhav is available on 3rd June 2025 at 4:00 PM.\n",
      "\n",
      "Would you like to book an appointment for this time slot?\n"
     ]
    }
   ],
   "source": [
    "from appointments_function_calling import handle_user_input\n",
    "\n",
    "print(handle_user_input(\"3 june\"))"
   ]
  },
  {
   "cell_type": "code",
   "execution_count": 5,
   "metadata": {},
   "outputs": [
    {
     "name": "stdout",
     "output_type": "stream",
     "text": [
      "No problem. Please provide me with a different date you would like to book an appointment for with Dr. Nikhil Jadhav.\n"
     ]
    }
   ],
   "source": [
    "from appointment_utils import print_conversation\n",
    "from appointments_function_calling import handle_user_input, conversation\n",
    "\n",
    "print(handle_user_input(\"no\"))\n",
    "# print_conversation(conversation)"
   ]
  },
  {
   "cell_type": "code",
   "execution_count": 6,
   "metadata": {},
   "outputs": [
    {
     "name": "stdout",
     "output_type": "stream",
     "text": [
      "Dr. Nikhil Jadhav is available on 4th June 2025 at 10:30 AM.\n",
      "\n",
      "Would you like to book an appointment for this time slot?\n"
     ]
    }
   ],
   "source": [
    "from appointments_function_calling import handle_user_input, conversation\n",
    "\n",
    "print(handle_user_input(\"4 june\"))"
   ]
  },
  {
   "cell_type": "code",
   "execution_count": 7,
   "metadata": {},
   "outputs": [
    {
     "name": "stdout",
     "output_type": "stream",
     "text": [
      "Your appointment with Dr. Nikhil Jadhav on 4th June 2025 at 10:30 AM has been successfully booked. \n",
      "\n",
      "If you need any further assistance, feel free to ask.\n"
     ]
    }
   ],
   "source": [
    "from appointments_function_calling import handle_user_input\n",
    "\n",
    "print(handle_user_input(\"yes\"))"
   ]
  }
 ],
 "metadata": {
  "kernelspec": {
   "display_name": ".venv",
   "language": "python",
   "name": "python3"
  },
  "language_info": {
   "codemirror_mode": {
    "name": "ipython",
    "version": 3
   },
   "file_extension": ".py",
   "mimetype": "text/x-python",
   "name": "python",
   "nbconvert_exporter": "python",
   "pygments_lexer": "ipython3",
   "version": "3.12.3"
  }
 },
 "nbformat": 4,
 "nbformat_minor": 2
}
