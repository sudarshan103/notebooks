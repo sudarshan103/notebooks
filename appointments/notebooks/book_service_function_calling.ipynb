{
 "cells": [
  {
   "cell_type": "code",
   "execution_count": 2,
   "metadata": {},
   "outputs": [
    {
     "name": "stdout",
     "output_type": "stream",
     "text": [
      "Requirement already satisfied: mysql-connector-python in /home/sudarshan/notebooks/.venv/lib/python3.12/site-packages (9.2.0)\n",
      "Note: you may need to restart the kernel to use updated packages.\n"
     ]
    }
   ],
   "source": [
    "pip install mysql-connector-python"
   ]
  },
  {
   "cell_type": "code",
   "execution_count": 1,
   "metadata": {},
   "outputs": [
    {
     "ename": "ModuleNotFoundError",
     "evalue": "No module named 'appointments_function_calling'",
     "output_type": "error",
     "traceback": [
      "\u001b[0;31m---------------------------------------------------------------------------\u001b[0m",
      "\u001b[0;31mModuleNotFoundError\u001b[0m                       Traceback (most recent call last)",
      "Cell \u001b[0;32mIn[1], line 1\u001b[0m\n\u001b[0;32m----> 1\u001b[0m \u001b[38;5;28;01mfrom\u001b[39;00m\u001b[38;5;250m \u001b[39m\u001b[38;5;21;01mappointments_function_calling\u001b[39;00m\u001b[38;5;250m \u001b[39m\u001b[38;5;28;01mimport\u001b[39;00m handle_user_input\n\u001b[1;32m      3\u001b[0m \u001b[38;5;28mprint\u001b[39m(handle_user_input(\u001b[38;5;124m\"\u001b[39m\u001b[38;5;124mHello, I want to book an appointment with doctor nikhil\u001b[39m\u001b[38;5;124m\"\u001b[39m))\n",
      "\u001b[0;31mModuleNotFoundError\u001b[0m: No module named 'appointments_function_calling'"
     ]
    }
   ],
   "source": [
    "\n",
    "\n",
    "from appointments_function_calling import handle_user_input\n",
    "\n",
    "print(handle_user_input(\"Hello, I want to book an appointment with doctor nikhil\"))\n"
   ]
  },
  {
   "cell_type": "code",
   "execution_count": 2,
   "metadata": {},
   "outputs": [
    {
     "name": "stdout",
     "output_type": "stream",
     "text": [
      "Dr. Nikhil Jadhav is available on 2025-06-03 and 2025-06-04. Please provide me with the specific date you would like to book the appointment for.\n"
     ]
    }
   ],
   "source": [
    "from appointments_prompted import handle_user_input\n",
    "\n",
    "print(handle_user_input(\"7 june\"))"
   ]
  },
  {
   "cell_type": "code",
   "execution_count": 3,
   "metadata": {},
   "outputs": [
    {
     "name": "stdout",
     "output_type": "stream",
     "text": [
      "Dr. Nikhil Jadhav is available on 2025-06-03 at the following times:\n",
      "1. 4:00 PM\n",
      "\n",
      "Would you like to book the appointment for 4:00 PM on 3rd June with Dr. Nikhil Jadhav?\n"
     ]
    }
   ],
   "source": [
    "from appointments_prompted import handle_user_input\n",
    "\n",
    "print(handle_user_input(\"3 june\"))"
   ]
  },
  {
   "cell_type": "code",
   "execution_count": 5,
   "metadata": {},
   "outputs": [
    {
     "name": "stdout",
     "output_type": "stream",
     "text": [
      "Dr. Nikhil Jadhav is also available on 2025-06-04 at 10:30 AM. Would you like to book the appointment for 10:30 AM on 4th June with Dr. Nikhil Jadhav?\n"
     ]
    }
   ],
   "source": [
    "from appointments_prompted import handle_user_input\n",
    "\n",
    "print(handle_user_input(\"any other date alternative?\"))"
   ]
  },
  {
   "cell_type": "code",
   "execution_count": 6,
   "metadata": {},
   "outputs": [
    {
     "name": "stdout",
     "output_type": "stream",
     "text": [
      "Great! Your appointment with Dr. Nikhil Jadhav for 10:30 AM on 4th June 2025 is confirmed. Thank you for booking with us. If you need any further assistance, feel free to ask.\n"
     ]
    }
   ],
   "source": [
    "from appointments_prompted import handle_user_input\n",
    "\n",
    "print(handle_user_input(\"yes?\"))"
   ]
  }
 ],
 "metadata": {
  "kernelspec": {
   "display_name": ".venv",
   "language": "python",
   "name": "python3"
  },
  "language_info": {
   "codemirror_mode": {
    "name": "ipython",
    "version": 3
   },
   "file_extension": ".py",
   "mimetype": "text/x-python",
   "name": "python",
   "nbconvert_exporter": "python",
   "pygments_lexer": "ipython3",
   "version": "3.12.3"
  }
 },
 "nbformat": 4,
 "nbformat_minor": 2
}
