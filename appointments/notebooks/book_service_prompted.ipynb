{
 "cells": [
  {
   "cell_type": "code",
   "execution_count": 2,
   "metadata": {},
   "outputs": [
    {
     "name": "stdout",
     "output_type": "stream",
     "text": [
      "Requirement already satisfied: mysql-connector-python in ./.venv/lib/python3.12/site-packages (9.2.0)\n",
      "Note: you may need to restart the kernel to use updated packages.\n"
     ]
    }
   ],
   "source": [
    "pip install mysql-connector-python"
   ]
  },
  {
   "cell_type": "code",
   "execution_count": 1,
   "metadata": {},
   "outputs": [
    {
     "name": "stdout",
     "output_type": "stream",
     "text": [
      "Sure, please provide me with the date you are looking to book the appointment for with Dr. Nikhil.\n"
     ]
    }
   ],
   "source": [
    "\n",
    "from appointments_prompted import handle_user_input, print_conversation\n",
    "\n",
    "print(handle_user_input(\"Hello, I want to book an appointment with doctor nikhil\"))\n"
   ]
  },
  {
   "cell_type": "code",
   "execution_count": 2,
   "metadata": {},
   "outputs": [
    {
     "name": "stdout",
     "output_type": "stream",
     "text": [
      "Dr. Nikhil Jadhav is available on 2025-06-03 and 2025-06-04. Please provide me with the specific date you would like to book the appointment for.\n"
     ]
    }
   ],
   "source": [
    "from appointments_prompted import handle_user_input\n",
    "\n",
    "print(handle_user_input(\"7 june\"))"
   ]
  },
  {
   "cell_type": "code",
   "execution_count": 3,
   "metadata": {},
   "outputs": [
    {
     "name": "stdout",
     "output_type": "stream",
     "text": [
      "Dr. Nikhil Jadhav is available on 2025-06-03 at the following times:\n",
      "1. 4:00 PM\n",
      "\n",
      "Would you like to book the appointment for 4:00 PM on 3rd June with Dr. Nikhil Jadhav?\n"
     ]
    }
   ],
   "source": [
    "from appointments_prompted import handle_user_input\n",
    "\n",
    "print(handle_user_input(\"3 june\"))"
   ]
  },
  {
   "cell_type": "code",
   "execution_count": 5,
   "metadata": {},
   "outputs": [
    {
     "name": "stdout",
     "output_type": "stream",
     "text": [
      "Dr. Nikhil Jadhav is also available on 2025-06-04 at 10:30 AM. Would you like to book the appointment for 10:30 AM on 4th June with Dr. Nikhil Jadhav?\n"
     ]
    }
   ],
   "source": [
    "from appointments_prompted import handle_user_input\n",
    "\n",
    "print(handle_user_input(\"any other date alternative?\"))"
   ]
  },
  {
   "cell_type": "code",
   "execution_count": 6,
   "metadata": {},
   "outputs": [
    {
     "name": "stdout",
     "output_type": "stream",
     "text": [
      "Great! Your appointment with Dr. Nikhil Jadhav for 10:30 AM on 4th June 2025 is confirmed. Thank you for booking with us. If you need any further assistance, feel free to ask.\n"
     ]
    }
   ],
   "source": [
    "from appointments_prompted import handle_user_input\n",
    "\n",
    "print(handle_user_input(\"yes?\"))"
   ]
  }
 ],
 "metadata": {
  "kernelspec": {
   "display_name": ".venv",
   "language": "python",
   "name": "python3"
  },
  "language_info": {
   "codemirror_mode": {
    "name": "ipython",
    "version": 3
   },
   "file_extension": ".py",
   "mimetype": "text/x-python",
   "name": "python",
   "nbconvert_exporter": "python",
   "pygments_lexer": "ipython3",
   "version": "3.12.3"
  }
 },
 "nbformat": 4,
 "nbformat_minor": 2
}
